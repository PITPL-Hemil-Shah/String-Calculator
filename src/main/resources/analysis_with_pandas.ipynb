{
 "cells": [
  {
   "cell_type": "code",
   "execution_count": 1,
   "metadata": {},
   "outputs": [],
   "source": [
    "import pandas as pd"
   ]
  },
  {
   "cell_type": "code",
   "execution_count": 2,
   "metadata": {},
   "outputs": [
    {
     "data": {
      "text/html": [
       "<div>\n",
       "<style scoped>\n",
       "    .dataframe tbody tr th:only-of-type {\n",
       "        vertical-align: middle;\n",
       "    }\n",
       "\n",
       "    .dataframe tbody tr th {\n",
       "        vertical-align: top;\n",
       "    }\n",
       "\n",
       "    .dataframe thead th {\n",
       "        text-align: right;\n",
       "    }\n",
       "</style>\n",
       "<table border=\"1\" class=\"dataframe\">\n",
       "  <thead>\n",
       "    <tr style=\"text-align: right;\">\n",
       "      <th></th>\n",
       "      <th>age</th>\n",
       "      <th>department</th>\n",
       "      <th>email</th>\n",
       "      <th>firstName</th>\n",
       "      <th>gender</th>\n",
       "      <th>id</th>\n",
       "      <th>lastName</th>\n",
       "      <th>salary</th>\n",
       "    </tr>\n",
       "  </thead>\n",
       "  <tbody>\n",
       "    <tr>\n",
       "      <th>0</th>\n",
       "      <td>68</td>\n",
       "      <td>IT</td>\n",
       "      <td>panderson0@clickbank.net</td>\n",
       "      <td>Philip</td>\n",
       "      <td>Male</td>\n",
       "      <td>1</td>\n",
       "      <td>Anderson</td>\n",
       "      <td>24025</td>\n",
       "    </tr>\n",
       "    <tr>\n",
       "      <th>1</th>\n",
       "      <td>62</td>\n",
       "      <td>Marketing</td>\n",
       "      <td>mgardner1@answers.com</td>\n",
       "      <td>Mildred</td>\n",
       "      <td>Female</td>\n",
       "      <td>2</td>\n",
       "      <td>Gardner</td>\n",
       "      <td>23279</td>\n",
       "    </tr>\n",
       "    <tr>\n",
       "      <th>2</th>\n",
       "      <td>39</td>\n",
       "      <td>Marketing</td>\n",
       "      <td>pwagner2@adobe.com</td>\n",
       "      <td>Peter</td>\n",
       "      <td>Male</td>\n",
       "      <td>3</td>\n",
       "      <td>Wagner</td>\n",
       "      <td>9957</td>\n",
       "    </tr>\n",
       "    <tr>\n",
       "      <th>3</th>\n",
       "      <td>37</td>\n",
       "      <td>Real Estate</td>\n",
       "      <td>lbarnes3@arizona.edu</td>\n",
       "      <td>Larry</td>\n",
       "      <td>Male</td>\n",
       "      <td>4</td>\n",
       "      <td>Barnes</td>\n",
       "      <td>20383</td>\n",
       "    </tr>\n",
       "    <tr>\n",
       "      <th>4</th>\n",
       "      <td>49</td>\n",
       "      <td>Real Estate</td>\n",
       "      <td>gcook4@walmart.com</td>\n",
       "      <td>George</td>\n",
       "      <td>Male</td>\n",
       "      <td>5</td>\n",
       "      <td>Cook</td>\n",
       "      <td>24881</td>\n",
       "    </tr>\n",
       "  </tbody>\n",
       "</table>\n",
       "</div>"
      ],
      "text/plain": [
       "   age   department                     email firstName  gender  id  lastName  \\\n",
       "0   68           IT  panderson0@clickbank.net    Philip    Male   1  Anderson   \n",
       "1   62    Marketing     mgardner1@answers.com   Mildred  Female   2   Gardner   \n",
       "2   39    Marketing        pwagner2@adobe.com     Peter    Male   3    Wagner   \n",
       "3   37  Real Estate      lbarnes3@arizona.edu     Larry    Male   4    Barnes   \n",
       "4   49  Real Estate        gcook4@walmart.com    George    Male   5      Cook   \n",
       "\n",
       "   salary  \n",
       "0   24025  \n",
       "1   23279  \n",
       "2    9957  \n",
       "3   20383  \n",
       "4   24881  "
      ]
     },
     "execution_count": 2,
     "metadata": {},
     "output_type": "execute_result"
    }
   ],
   "source": [
    "df = pd.read_json('/home/ngelot/workspace/valens-interviews/progtest/src/main/resources/employees.json', lines=True)\n",
    "df.head()"
   ]
  },
  {
   "cell_type": "code",
   "execution_count": 3,
   "metadata": {},
   "outputs": [],
   "source": [
    "#show max salary for every department in the data"
   ]
  },
  {
   "cell_type": "code",
   "execution_count": 4,
   "metadata": {},
   "outputs": [],
   "source": [
    "#show average salary for every department in the data"
   ]
  },
  {
   "cell_type": "code",
   "execution_count": null,
   "metadata": {},
   "outputs": [],
   "source": [
    "#implement the following python function which takes the dataframe as the first parameter and n (which is an integer) \n",
    "#the function should return the record of employee which has n(th) lowest salary\n",
    "# if argument n=1 is passed, it should return the employee with lowest salary in the entire dataframe\n",
    "# if n=2 is passed, it should return employee with 2nd lowest salary\n",
    "\n",
    "\n",
    "# returned value should be the employee's \"firstname lastname\", e.g. \"John Smith\"\n",
    "\n",
    "def get_employee_with_n_th_lowest_salary(df, n):\n",
    "    "
   ]
  },
  {
   "cell_type": "code",
   "execution_count": null,
   "metadata": {},
   "outputs": [],
   "source": [
    "#similar to previous method, but this method should calculate nth lowest salary within each department and return a list of tuples as follows\n",
    "\n",
    "# returned values should be in the form\n",
    "\n",
    "# [(\"IT\", \"John Smith\"), (\"HR\", \"Alice Green\")]\n",
    "\n",
    "# if the specified \"n\" is a big value like 10 for which there aren't even 10 employees in a particular department, the corresponding tuple should have \n",
    "# (\"HR\", None) in the value \n",
    "\n",
    "def get_employee_with_nth_lowest_salary_from_each_department(df, n):\n",
    "    "
   ]
  }
 ],
 "metadata": {
  "kernelspec": {
   "display_name": "Python 3",
   "language": "python",
   "name": "python3"
  },
  "language_info": {
   "codemirror_mode": {
    "name": "ipython",
    "version": 3
   },
   "file_extension": ".py",
   "mimetype": "text/x-python",
   "name": "python",
   "nbconvert_exporter": "python",
   "pygments_lexer": "ipython3",
   "version": "3.6.4"
  }
 },
 "nbformat": 4,
 "nbformat_minor": 2
}
